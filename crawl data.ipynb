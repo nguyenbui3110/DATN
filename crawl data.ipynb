{
 "cells": [
  {
   "cell_type": "code",
   "execution_count": 36,
   "metadata": {},
   "outputs": [
    {
     "name": "stdout",
     "output_type": "stream",
     "text": [
      "Requirement already satisfied: selenium in c:\\users\\nguye\\appdata\\local\\programs\\python\\python311\\lib\\site-packages (4.19.0)\n",
      "Requirement already satisfied: urllib3<3,>=1.26 in c:\\users\\nguye\\appdata\\local\\programs\\python\\python311\\lib\\site-packages (from urllib3[socks]<3,>=1.26->selenium) (2.2.1)\n",
      "Requirement already satisfied: trio~=0.17 in c:\\users\\nguye\\appdata\\local\\programs\\python\\python311\\lib\\site-packages (from selenium) (0.25.0)\n",
      "Requirement already satisfied: trio-websocket~=0.9 in c:\\users\\nguye\\appdata\\local\\programs\\python\\python311\\lib\\site-packages (from selenium) (0.11.1)\n",
      "Requirement already satisfied: certifi>=2021.10.8 in c:\\users\\nguye\\appdata\\local\\programs\\python\\python311\\lib\\site-packages (from selenium) (2024.2.2)\n",
      "Requirement already satisfied: typing_extensions>=4.9.0 in c:\\users\\nguye\\appdata\\local\\programs\\python\\python311\\lib\\site-packages (from selenium) (4.9.0)\n",
      "Requirement already satisfied: attrs>=23.2.0 in c:\\users\\nguye\\appdata\\local\\programs\\python\\python311\\lib\\site-packages (from trio~=0.17->selenium) (23.2.0)\n",
      "Requirement already satisfied: sortedcontainers in c:\\users\\nguye\\appdata\\local\\programs\\python\\python311\\lib\\site-packages (from trio~=0.17->selenium) (2.4.0)\n",
      "Requirement already satisfied: idna in c:\\users\\nguye\\appdata\\local\\programs\\python\\python311\\lib\\site-packages (from trio~=0.17->selenium) (3.6)\n",
      "Requirement already satisfied: outcome in c:\\users\\nguye\\appdata\\local\\programs\\python\\python311\\lib\\site-packages (from trio~=0.17->selenium) (1.3.0.post0)\n",
      "Requirement already satisfied: sniffio>=1.3.0 in c:\\users\\nguye\\appdata\\local\\programs\\python\\python311\\lib\\site-packages (from trio~=0.17->selenium) (1.3.1)\n",
      "Requirement already satisfied: cffi>=1.14 in c:\\users\\nguye\\appdata\\local\\programs\\python\\python311\\lib\\site-packages (from trio~=0.17->selenium) (1.16.0)\n",
      "Requirement already satisfied: wsproto>=0.14 in c:\\users\\nguye\\appdata\\local\\programs\\python\\python311\\lib\\site-packages (from trio-websocket~=0.9->selenium) (1.2.0)\n",
      "Requirement already satisfied: pysocks!=1.5.7,<2.0,>=1.5.6 in c:\\users\\nguye\\appdata\\local\\programs\\python\\python311\\lib\\site-packages (from urllib3[socks]<3,>=1.26->selenium) (1.7.1)\n",
      "Requirement already satisfied: pycparser in c:\\users\\nguye\\appdata\\local\\programs\\python\\python311\\lib\\site-packages (from cffi>=1.14->trio~=0.17->selenium) (2.22)\n",
      "Requirement already satisfied: h11<1,>=0.9.0 in c:\\users\\nguye\\appdata\\local\\programs\\python\\python311\\lib\\site-packages (from wsproto>=0.14->trio-websocket~=0.9->selenium) (0.14.0)\n",
      "Note: you may need to restart the kernel to use updated packages.\n",
      "Requirement already satisfied: requests in c:\\users\\nguye\\appdata\\local\\programs\\python\\python311\\lib\\site-packages (2.31.0)Note: you may need to restart the kernel to use updated packages.\n",
      "\n",
      "Requirement already satisfied: charset-normalizer<4,>=2 in c:\\users\\nguye\\appdata\\local\\programs\\python\\python311\\lib\\site-packages (from requests) (3.3.2)\n",
      "Requirement already satisfied: idna<4,>=2.5 in c:\\users\\nguye\\appdata\\local\\programs\\python\\python311\\lib\\site-packages (from requests) (3.6)\n",
      "Requirement already satisfied: urllib3<3,>=1.21.1 in c:\\users\\nguye\\appdata\\local\\programs\\python\\python311\\lib\\site-packages (from requests) (2.2.1)\n",
      "Requirement already satisfied: certifi>=2017.4.17 in c:\\users\\nguye\\appdata\\local\\programs\\python\\python311\\lib\\site-packages (from requests) (2024.2.2)\n",
      "Requirement already satisfied: pandas in c:\\users\\nguye\\appdata\\local\\programs\\python\\python311\\lib\\site-packages (2.2.0)\n",
      "Requirement already satisfied: numpy<2,>=1.23.2 in c:\\users\\nguye\\appdata\\local\\programs\\python\\python311\\lib\\site-packages (from pandas) (1.26.4)\n",
      "Requirement already satisfied: python-dateutil>=2.8.2 in c:\\users\\nguye\\appdata\\roaming\\python\\python311\\site-packages (from pandas) (2.8.2)\n",
      "Requirement already satisfied: pytz>=2020.1 in c:\\users\\nguye\\appdata\\local\\programs\\python\\python311\\lib\\site-packages (from pandas) (2024.1)\n",
      "Requirement already satisfied: tzdata>=2022.7 in c:\\users\\nguye\\appdata\\local\\programs\\python\\python311\\lib\\site-packages (from pandas) (2024.1)\n",
      "Requirement already satisfied: six>=1.5 in c:\\users\\nguye\\appdata\\roaming\\python\\python311\\site-packages (from python-dateutil>=2.8.2->pandas) (1.16.0)\n",
      "Note: you may need to restart the kernel to use updated packages.\n"
     ]
    }
   ],
   "source": [
    "%pip install selenium\n",
    "%pip install requests\n",
    "%pip install pandas"
   ]
  },
  {
   "cell_type": "code",
   "execution_count": 37,
   "metadata": {},
   "outputs": [],
   "source": [
    "from selenium import webdriver\n",
    "from selenium.webdriver.chrome.options import Options\n",
    "from selenium.webdriver.common.by import By\n",
    "from selenium.webdriver.common.keys import Keys\n",
    "import time\n",
    "import requests as rq\n",
    "import re\n",
    "import pandas as pd\n",
    "import os\n",
    "import pathlib\n"
   ]
  },
  {
   "cell_type": "code",
   "execution_count": 38,
   "metadata": {},
   "outputs": [],
   "source": [
    "#cấu hình chrome driver\n",
    "#config chrome driver options for crawl images\n",
    "chrome_options = Options()\n",
    "chrome_options.add_argument(\"--headless\")\n",
    "chrome_options.add_argument(\"--disable-gpu\")\n",
    "chrome_options.add_argument(\"--no-sandbox\")\n",
    "chrome_options.add_argument(\"--disable-dev-shm-usage\")\n",
    "chrome_options.add_argument(\"--disable-extensions\")\n",
    "\n"
   ]
  },
  {
   "cell_type": "code",
   "execution_count": 39,
   "metadata": {},
   "outputs": [],
   "source": [
    "#khởi tạo driver\n",
    "driver = webdriver.Chrome(options=chrome_options)"
   ]
  },
  {
   "cell_type": "code",
   "execution_count": 40,
   "metadata": {},
   "outputs": [],
   "source": [
    "# URL to the dermnet website\n",
    "url = \"https://dermnetnz.org/image-library\"\n",
    "\n",
    "# Navigating to the specified url in chrome\n",
    "driver.get(url)\n",
    "driver.implicitly_wait(5)"
   ]
  },
  {
   "cell_type": "code",
   "execution_count": 41,
   "metadata": {},
   "outputs": [
    {
     "name": "stdout",
     "output_type": "stream",
     "text": [
      "The first 10 skin condition names: \n",
      " ['acne affecting the back images', 'acne affecting the face images', 'acne and other follicular disorder images', 'acquired dermal macular hyperpigmentation images', 'acral lentiginous melanoma images', 'actinic keratosis affecting the face images', 'actinic keratosis affecting the hand images', 'actinic keratosis affecting the legs and feet images', 'actinic keratosis affecting the scalp images', 'actinic keratosis dermoscopy images']\n",
      "\n",
      "The first 10 links to skin condition image links:\n",
      "['https://dermnetnz.org/topics/acne-affecting-the-back-images', 'https://dermnetnz.org/topics/acne-face-images', 'https://dermnetnz.org/image-catalogue/acne-and-other-follicular-disorder-images', 'https://dermnetnz.org/topics/acquired-dermal-macular-hyperpigmentation-images', 'https://dermnetnz.org/images/acral-lentiginous-melanoma-images', 'https://dermnetnz.org/topics/actinic-keratosis-face-images', 'https://dermnetnz.org/topics/actinic-keratosis-affecting-the-hand-images', 'https://dermnetnz.org/topics/actinic-keratosis-leg-and-foot-images', 'https://dermnetnz.org/topics/actinic-keratosis-scalp-images', 'https://dermnetnz.org/topics/actinic-keratosis-dermoscopy-images']\n"
     ]
    }
   ],
   "source": [
    "# Finding all the skin_disorders listed on the main page\n",
    "skin_disorder_tag_main_page = driver.find_elements(\"xpath\", '//a[@class=\"imageList__group__item\"]')\n",
    "\n",
    "# For loop to extract the skin disorder names and the link to the skin_disorders\n",
    "disorder_names = []\n",
    "link_list= []\n",
    "for tag in skin_disorder_tag_main_page:\n",
    "    disorder_names.append(tag.text)\n",
    "    link_list.append(tag.get_attribute(\"href\"))\n",
    "disorder_names=list(map(str.lower,disorder_names))\n",
    "# Previewing the lists created:\n",
    "print(f'The first 10 skin condition names: \\n {disorder_names[:10]}\\n')\n",
    "print(f'The first 10 links to skin condition image links:\\n{link_list[:10]}')"
   ]
  },
  {
   "cell_type": "code",
   "execution_count": 42,
   "metadata": {},
   "outputs": [
    {
     "name": "stdout",
     "output_type": "stream",
     "text": [
      "The are 294 skin conditions listed in the DermNet website.\n"
     ]
    }
   ],
   "source": [
    "# The number of skin_disorders listed in the website\n",
    "print(f'The are {len(disorder_names)} skin conditions listed in the DermNet website.')"
   ]
  },
  {
   "cell_type": "code",
   "execution_count": 43,
   "metadata": {},
   "outputs": [
    {
     "data": {
      "text/html": [
       "<div>\n",
       "<style scoped>\n",
       "    .dataframe tbody tr th:only-of-type {\n",
       "        vertical-align: middle;\n",
       "    }\n",
       "\n",
       "    .dataframe tbody tr th {\n",
       "        vertical-align: top;\n",
       "    }\n",
       "\n",
       "    .dataframe thead th {\n",
       "        text-align: right;\n",
       "    }\n",
       "</style>\n",
       "<table border=\"1\" class=\"dataframe\">\n",
       "  <thead>\n",
       "    <tr style=\"text-align: right;\">\n",
       "      <th></th>\n",
       "      <th>skin_disorder_name</th>\n",
       "      <th>link</th>\n",
       "    </tr>\n",
       "  </thead>\n",
       "  <tbody>\n",
       "    <tr>\n",
       "      <th>0</th>\n",
       "      <td>acne affecting the back images</td>\n",
       "      <td>https://dermnetnz.org/topics/acne-affecting-th...</td>\n",
       "    </tr>\n",
       "    <tr>\n",
       "      <th>1</th>\n",
       "      <td>acne affecting the face images</td>\n",
       "      <td>https://dermnetnz.org/topics/acne-face-images</td>\n",
       "    </tr>\n",
       "    <tr>\n",
       "      <th>2</th>\n",
       "      <td>acne and other follicular disorder images</td>\n",
       "      <td>https://dermnetnz.org/image-catalogue/acne-and...</td>\n",
       "    </tr>\n",
       "    <tr>\n",
       "      <th>3</th>\n",
       "      <td>acquired dermal macular hyperpigmentation images</td>\n",
       "      <td>https://dermnetnz.org/topics/acquired-dermal-m...</td>\n",
       "    </tr>\n",
       "    <tr>\n",
       "      <th>4</th>\n",
       "      <td>acral lentiginous melanoma images</td>\n",
       "      <td>https://dermnetnz.org/images/acral-lentiginous...</td>\n",
       "    </tr>\n",
       "  </tbody>\n",
       "</table>\n",
       "</div>"
      ],
      "text/plain": [
       "                                 skin_disorder_name  \\\n",
       "0                    acne affecting the back images   \n",
       "1                    acne affecting the face images   \n",
       "2         acne and other follicular disorder images   \n",
       "3  acquired dermal macular hyperpigmentation images   \n",
       "4                 acral lentiginous melanoma images   \n",
       "\n",
       "                                                link  \n",
       "0  https://dermnetnz.org/topics/acne-affecting-th...  \n",
       "1      https://dermnetnz.org/topics/acne-face-images  \n",
       "2  https://dermnetnz.org/image-catalogue/acne-and...  \n",
       "3  https://dermnetnz.org/topics/acquired-dermal-m...  \n",
       "4  https://dermnetnz.org/images/acral-lentiginous...  "
      ]
     },
     "execution_count": 43,
     "metadata": {},
     "output_type": "execute_result"
    }
   ],
   "source": [
    "# Creating a dataframe with two columns, the skin_disorder names and the links to the images of the skin disorders\n",
    "name_link_df = pd.DataFrame({'skin_disorder_name': disorder_names, 'link': link_list})\n",
    "\n",
    "# Saving the dataframe as a csv file\n",
    "name_link_df.to_csv('Data/Link_Images.csv', index=False)\n",
    "\n",
    "# Previewing the first five rows of the dataframe\n",
    "name_link_df.head()"
   ]
  },
  {
   "cell_type": "code",
   "execution_count": 44,
   "metadata": {},
   "outputs": [
    {
     "name": "stdout",
     "output_type": "stream",
     "text": [
      "acne_labels: ['acne affecting the back images', 'acne affecting the face images', 'facial acne images', 'infantile acne images']\n",
      "zema_labels: ['atopic dermatitis images' 'atopic eczema images'\n",
      " 'atopic flexural eczema images' 'dermatitis images'\n",
      " 'discoid eczema images' 'eczema herpeticum images'\n",
      " 'hand dermatitis images' 'nummular dermatitis images']\n"
     ]
    }
   ],
   "source": [
    "df=pd.read_csv('Data/Link_Images.csv')\n",
    "acne_labels=list(df[df['skin_disorder_name'].str.contains('acne')]['skin_disorder_name'].unique())\n",
    "acne_labels.remove('steroid acne images')\n",
    "acne_labels.remove('acne and other follicular disorder images')\n",
    "print(f'acne_labels: {acne_labels}')\n",
    "\n",
    "# Labels representing eczema in Dermnet's scraped data.\n",
    "eczema_labels = df[(df['skin_disorder_name'].str.contains('eczema')) | \\\n",
    "                         (df['skin_disorder_name'].str.contains('atopic dermatitis images')) |\\\n",
    "                         (df['skin_disorder_name'].str.contains('hand dermatitis images')) |\\\n",
    "                         (df['skin_disorder_name'] == 'dermatitis images') |\\\n",
    "                         (df['skin_disorder_name'].str.contains('nummular dermatitis images'))] \\\n",
    "                         ['skin_disorder_name'].unique()\n",
    "print(f'zema_labels: {eczema_labels}')\n"
   ]
  },
  {
   "cell_type": "code",
   "execution_count": 45,
   "metadata": {},
   "outputs": [
    {
     "name": "stdout",
     "output_type": "stream",
     "text": [
      "acne_df: (4, 2)\n",
      "eczema: (8, 2)\n"
     ]
    }
   ],
   "source": [
    "disease_df =[]\n",
    "# Filtering the dataframe to only include acne labels\n",
    "acne_df = df[df['skin_disorder_name'].isin(acne_labels)]\n",
    "disease_df.append({'name':'acne','data':acne_df['link'].to_list()})\n",
    "print(f'acne_df: {acne_df.shape}')\n",
    "# Filtering the dataframe to only include eczema labels\n",
    "eczema_df = df[df['skin_disorder_name'].isin(eczema_labels)]\n",
    "disease_df.append({'name':'eczema','data':eczema_df['link'].to_list()})\n",
    "print(f'eczema: {eczema_df.shape}')\n",
    "\n"
   ]
  },
  {
   "cell_type": "code",
   "execution_count": 46,
   "metadata": {},
   "outputs": [
    {
     "name": "stdout",
     "output_type": "stream",
     "text": [
      "extract https://dermnetnz.org/topics/acne-affecting-the-back-images...\n",
      "extract https://dermnetnz.org/topics/acne-face-images...\n",
      "extract https://dermnetnz.org/topics/acne-face-images...\n",
      "extract https://dermnetnz.org/topics/infantile-acne-images...\n",
      "extract https://dermnetnz.org/images/atopic-dermatitis-images...\n",
      "extract https://dermnetnz.org/images/atopic-dermatitis-images...\n",
      "extract https://dermnetnz.org/topics/atopic-flexural-eczema-images...\n",
      "extract https://dermnetnz.org/images/atopic-dermatitis-images...\n",
      "extract https://dermnetnz.org/images/discoid-eczema-images...\n",
      "extract https://dermnetnz.org/topics/eczema-herpeticum-images...\n",
      "extract https://dermnetnz.org/topics/hand-dermatitis-images...\n",
      "extract https://dermnetnz.org/images/discoid-eczema-images...\n"
     ]
    }
   ],
   "source": [
    "# create an empty list to store the url for each link/disease pair\n",
    "image_disease = []\n",
    "list_disease_name=[]\n",
    "image_df = pd.DataFrame({'disease_name': list_disease_name, 'image_url': image_disease})\n",
    "image_df.to_csv(f'Data/dermnetnz_Image.csv', index=False)\n",
    "# loop through each link/disease pair\n",
    "for disease in disease_df:\n",
    "    # extract the disease name and the link\n",
    "\n",
    "    name = disease['name']\n",
    "    links = disease['data']\n",
    "        \n",
    "    image_disease = []\n",
    "    list_disease_name=[]\n",
    "\n",
    "    \n",
    "    # create an empty list to store the image URLs\n",
    "    driver = webdriver.Chrome(options=chrome_options)\n",
    "    for link in links:\n",
    "        try:\n",
    "            # navigate to the link\n",
    "            driver.get(link)\n",
    "            print(f\"extract {link}...\")\n",
    "            # wait for the page to load\n",
    "            # time.sleep(5)\n",
    "            # find all the elements on the page with the class \"imageLinkBlock__item__image\"\n",
    "            skin_image_disorder = driver.find_elements(\"xpath\", '//div[@class=\"imageLinkBlock__item__image\"]/img')\n",
    "            # loop through each element and find all the images within it\n",
    "            for image in skin_image_disorder:\n",
    "                # add each image URL to the image_disease list\n",
    "                image_disease.append(image.get_attribute(\"src\"))\n",
    "                list_disease_name.append(name)\n",
    "        except Exception as e:\n",
    "            # if an error occurs, print the error message and move to the next link/disease pair\n",
    "            print(f\"Error occurred for {name}: {str(e)}\")\n",
    "            continue\n",
    "        finally:\n",
    "            pass\n",
    "    # create a dataframe with the disease name and the image URL\n",
    "    image_df = pd.DataFrame({'disease_name': list_disease_name, 'image_url': image_disease})\n",
    "    # save the dataframe as a csv file\n",
    "    image_df.to_csv(f'Data/dermnetnz_Image.csv', index=False,mode='a', header=False)\n",
    "    driver.quit()\n",
    "\n",
    "    \n",
    "\n"
   ]
  },
  {
   "cell_type": "code",
   "execution_count": 47,
   "metadata": {},
   "outputs": [
    {
     "name": "stdout",
     "output_type": "stream",
     "text": [
      "number of image: 1184\n",
      "number of image after drop duplicate: 621\n"
     ]
    }
   ],
   "source": [
    "# create a dataframe from the image_disease list\n",
    "dfs= pd.read_csv('Data/dermnetnz_Image.csv')\n",
    "print(f'number of image: {len(dfs)}')\n",
    "dfs.head()\n",
    "\n",
    "# Turning all the disease_name to lower case and dropping duplicates\n",
    "Result= dfs.drop_duplicates(keep='first')\n",
    "print(f'number of image after drop duplicate: {len(Result)}')\n",
    "\n",
    "# save the result dataframe to a CSV \n",
    "Result.to_csv('Data/dermnetnz_Image.csv', index=False)"
   ]
  }
 ],
 "metadata": {
  "kernelspec": {
   "display_name": "Python 3",
   "language": "python",
   "name": "python3"
  },
  "language_info": {
   "codemirror_mode": {
    "name": "ipython",
    "version": 3
   },
   "file_extension": ".py",
   "mimetype": "text/x-python",
   "name": "python",
   "nbconvert_exporter": "python",
   "pygments_lexer": "ipython3",
   "version": "3.11.8"
  },
  "orig_nbformat": 4
 },
 "nbformat": 4,
 "nbformat_minor": 2
}
