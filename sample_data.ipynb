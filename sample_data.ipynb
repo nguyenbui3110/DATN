{
 "cells": [
  {
   "cell_type": "code",
   "execution_count": 1,
   "metadata": {},
   "outputs": [
    {
     "name": "stdout",
     "output_type": "stream",
     "text": [
      "AK: 867\n",
      "ance: 299\n",
      "BCC: 3323\n",
      "BKL: 2624\n",
      "DF: 239\n",
      "eczema: 322\n",
      "MEL: 4522\n",
      "NV: 12875\n",
      "SCC: 628\n",
      "VASC: 253\n"
     ]
    }
   ],
   "source": [
    "import os\n",
    "# print number of images in each directory\n",
    "for directory in os.listdir('Data'):\n",
    "    if os.path.isdir(f'Data/{directory}'):\n",
    "        print(f'{directory}: {len(os.listdir(f\"Data/{directory}\"))}')"
   ]
  },
  {
   "cell_type": "code",
   "execution_count": 3,
   "metadata": {},
   "outputs": [
    {
     "name": "stdout",
     "output_type": "stream",
     "text": [
      "AK: 867\n",
      "ance: 299\n",
      "BCC: 1000\n",
      "BKL: 1000\n",
      "DF: 239\n",
      "eczema: 322\n",
      "MEL: 1000\n",
      "NV: 1000\n",
      "SCC: 628\n",
      "VASC: 253\n"
     ]
    }
   ],
   "source": [
    "import random\n",
    "import shutil\n",
    "\n",
    "def sample_images(directory):\n",
    "    shutil.rmtree(f'sample/{directory}', ignore_errors=True)\n",
    "    images = os.listdir(directory)\n",
    "    n = 1000\n",
    "    if len(images) < 1000:\n",
    "        n=len(images)\n",
    "    sample = random.sample(images, n)\n",
    "    os.makedirs(f'sample/{directory}', exist_ok=True)\n",
    "    for image in sample:\n",
    "        shutil.copyfile(f'{directory}/{image}', f'sample/{directory}/{image}')\n",
    "\n",
    "for directory in os.listdir('Data'):\n",
    "    # if want to sample all images, comment the following line\n",
    "    # if directory == \"ance\" or directory =='eczema':\n",
    "    #     continue\n",
    "    if os.path.isdir(f'Data/{directory}'):\n",
    "        sample_images(f'Data/{directory}')\n",
    "        print(f'{directory}: {len(os.listdir(f\"sample/Data/{directory}\"))}')\n",
    "\n"
   ]
  },
  {
   "cell_type": "code",
   "execution_count": 4,
   "metadata": {},
   "outputs": [],
   "source": [
    "#train test split \n",
    "import os\n",
    "import shutil\n",
    "import random\n",
    "# Create a new directory\n",
    "shutil.rmtree(f'sample/train', ignore_errors=True)\n",
    "shutil.rmtree(f'sample/val', ignore_errors=True)\n",
    "os.makedirs('sample/train', exist_ok=True)\n",
    "os.makedirs('sample/val', exist_ok=True)\n",
    "# Iterate through each folder\n",
    "for folder in os.listdir('sample/Data'):\n",
    "    folder_path = os.path.join('sample/Data', folder)\n",
    "    if os.path.isdir(folder_path):\n",
    "        # Get a random sample of images\n",
    "        images = os.listdir(folder_path)\n",
    "        random.shuffle(images)\n",
    "        split_index = int(0.7 * len(images))\n",
    "        train_images = images[:split_index]\n",
    "        val_images = images[split_index:]\n",
    "        # Move images to train/test folders\n",
    "        for image in train_images:\n",
    "            source = os.path.join(folder_path, image)\n",
    "            target = os.path.join('sample/train', folder, image)\n",
    "            os.makedirs(os.path.dirname(target), exist_ok=True)\n",
    "            shutil.copyfile(source, target)\n",
    "        for image in val_images:\n",
    "            source = os.path.join(folder_path, image)\n",
    "            target = os.path.join('sample/val', folder, image)\n",
    "            os.makedirs(os.path.dirname(target), exist_ok=True)\n",
    "            shutil.copyfile(source, target)\n",
    "\n",
    "\n",
    "\n"
   ]
  },
  {
   "cell_type": "code",
   "execution_count": 5,
   "metadata": {},
   "outputs": [
    {
     "name": "stdout",
     "output_type": "stream",
     "text": [
      "AK: 606\n",
      "ance: 209\n",
      "BCC: 700\n",
      "BKL: 700\n",
      "DF: 167\n",
      "eczema: 225\n",
      "MEL: 700\n",
      "NV: 700\n",
      "SCC: 439\n",
      "VASC: 177\n"
     ]
    }
   ],
   "source": [
    "import os\n",
    "# print number of images in each directory\n",
    "for directory in os.listdir('sample/Train'):\n",
    "    if os.path.isdir(f'sample/Train/{directory}'):\n",
    "        print(f'{directory}: {len(os.listdir(f\"sample/Train/{directory}\"))}')"
   ]
  }
 ],
 "metadata": {
  "kernelspec": {
   "display_name": "Python 3",
   "language": "python",
   "name": "python3"
  },
  "language_info": {
   "codemirror_mode": {
    "name": "ipython",
    "version": 3
   },
   "file_extension": ".py",
   "mimetype": "text/x-python",
   "name": "python",
   "nbconvert_exporter": "python",
   "pygments_lexer": "ipython3",
   "version": "3.11.8"
  }
 },
 "nbformat": 4,
 "nbformat_minor": 2
}
